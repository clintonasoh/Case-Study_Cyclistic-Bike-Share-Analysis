{
 "cells": [
  {
   "cell_type": "markdown",
   "metadata": {},
   "source": [
    "# Cyclistic Bike-Share Analysis"
   ]
  },
  {
   "cell_type": "code",
   "execution_count": 1,
   "metadata": {
    "_execution_state": "idle",
    "_uuid": "051d70d956493feee0c6d64651c6a088724dca2a",
    "execution": {
     "iopub.execute_input": "2022-04-23T17:38:05.516433Z",
     "iopub.status.busy": "2022-04-23T17:38:05.513924Z",
     "iopub.status.idle": "2022-04-23T17:38:07.033756Z"
    }
   },
   "outputs": [],
   "source": [
    "# I originally did this project on Kaggle \n",
    "#This R environment comes with many helpful analytics packages installed\n",
    "# It is defined by the kaggle/rstats Docker image: https://github.com/kaggle/docker-rstats\n",
    "# For example, here's a helpful package to load\n",
    "\n",
    "library(tidyverse) # metapackage of all tidyverse packages\n",
    "\n",
    "# Input data files are available in the read-only \"../input/\" directory\n",
    "# For example, running this (by clicking run or pressing Shift+Enter) will list all files under the input directory\n",
    "\n",
    "list.files(path = \"../input\")\n",
    "\n",
    "# You can write up to 20GB to the current directory (/kaggle/working/) that gets preserved as output when you create a version using \"Save & Run All\" \n",
    "# You can also write temporary files to /kaggle/temp/, but they won't be saved outside of the current session"
   ]
  },
  {
   "cell_type": "markdown",
   "metadata": {},
   "source": [
    "# Background\n",
    "In 2016, Cyclistic launched a successful bike-share offering. Since then, the program has grown to a fleet of 5,824 bicycles that are geotracked and locked into a network of 692 stations across Chicago. The bikes can be unlocked from one station and returned to any other station in the system anytime.\n",
    "\n",
    "Until now, Cyclistic’s marketing strategy relied on building general awareness and appealing to broad consumer segments. One approach that helped make these things possible was the flexibility of its pricing plans: single-ride passes, full-day passes, and annual memberships. Customers who purchase single-ride or full-day passes are referred to as casual riders. Customers who purchase annual memberships are Cyclistic members.\n",
    "\n",
    "Cyclistic’s finance analysts have concluded that annual members are much more profitable than casual riders. Although the pricing flexibility helps Cyclistic attract more customers, Moreno believes that maximizing the number of annual members will be key to future growth. Rather than creating a marketing campaign that targets all-new customers, Moreno believes there is a very good chance to convert casual riders into members. She notes that casual riders are already aware of the Cyclistic program and have chosen Cyclistic for their mobility needs.\n",
    "\n",
    "Moreno has set a clear goal: Design marketing strategies aimed at converting casual riders into annual members. In order to do that, however, the marketing analyst team needs to better understand how annual members and casual riders differ, why casual riders would buy a membership, and how digital media could affect their marketing tactics. Moreno and her team are interested in analyzing the Cyclistic historical bike trip data to identify trends."
   ]
  },
  {
   "cell_type": "markdown",
   "metadata": {},
   "source": [
    "# Business Task\n",
    "The director of marketing believes the company’s future success depends on maximizing the number of annual memberships. Therefore, my team wants to understand how casual riders and annual members use Cyclistic bikes differently. From these insights,the team will design a new marketing strategy to convert casual riders into annual members and present it to the Cyclistic executives for approval."
   ]
  },
  {
   "cell_type": "markdown",
   "metadata": {},
   "source": [
    "## Datasets\n",
    "I used Cyclistic’s historical trip data to analyze and identify trends. The last 12 months(April 2021 - March 2022) of Cyclistic trip data  was downloaded from [here](https://divvy-tripdata.s3.amazonaws.com/index.html). (Note: The datasets have a different name because Cyclistic is a fictional company. For the purposes of this case study,\n",
    "the datasets are appropriate and will enable you to answer the business questions. The data has been made available by Motivate International Inc. under this [license](https://www.divvybikes.com/data-license-agreement).) It is public data that you can use to explore how different customer types are using Cyclistic bikes, made available by. \n",
    "\n"
   ]
  },
  {
   "cell_type": "markdown",
   "metadata": {},
   "source": [
    "## Load Packages"
   ]
  },
  {
   "cell_type": "code",
   "execution_count": 2,
   "metadata": {
    "execution": {
     "iopub.execute_input": "2022-04-23T17:38:21.389907Z",
     "iopub.status.busy": "2022-04-23T17:38:21.351511Z",
     "iopub.status.idle": "2022-04-23T17:38:21.484515Z"
    }
   },
   "outputs": [],
   "source": [
    "library(tidyverse)\n",
    "library(dplyr)                                    \n",
    "library(plyr)                                     \n",
    "library(readr)                                    \n",
    "library(purrr)\n",
    "library(ggplot2)\n",
    "library(lubridate)"
   ]
  },
  {
   "cell_type": "markdown",
   "metadata": {},
   "source": [
    "## Data Collection\n",
    "\n",
    "The 12 extracted historical data files are in CSV format. "
   ]
  },
  {
   "cell_type": "markdown",
   "metadata": {},
   "source": [
    "Upload Cyclistic datasets (csv files)."
   ]
  },
  {
   "cell_type": "code",
   "execution_count": 3,
   "metadata": {
    "execution": {
     "iopub.execute_input": "2022-04-23T17:38:37.776375Z",
     "iopub.status.busy": "2022-04-23T17:38:37.774502Z",
     "iopub.status.idle": "2022-04-23T17:38:38.018424Z"
    }
   },
   "outputs": [],
   "source": [
    "apr21 <- read_csv(\"../input/202103-202203-cyclistic-dataset/202104-divvy-tripdata.csv\")\n",
    "may21 <- read_csv(\"../input/202103-202203-cyclistic-dataset/202105-divvy-tripdata.csv\")\n",
    "jun21 <- read_csv(\"../input/202103-202203-cyclistic-dataset/202106-divvy-tripdata.csv\")\n",
    "jul21 <- read_csv(\"../input/202103-202203-cyclistic-dataset/202107-divvy-tripdata.csv\")\n",
    "aug21 <- read_csv(\"../input/202103-202203-cyclistic-dataset/202108-divvy-tripdata.csv\")\n",
    "sep21 <- read_csv(\"../input/202103-202203-cyclistic-dataset/202109-divvy-tripdata.csv\")\n",
    "oct21 <- read_csv(\"../input/202103-202203-cyclistic-dataset/202110-divvy-tripdata.csv\")\n",
    "nov21 <- read_csv(\"../input/202103-202203-cyclistic-dataset/202111-divvy-tripdata.csv\")\n",
    "dec21 <- read_csv(\"../input/202103-202203-cyclistic-dataset/202112-divvy-tripdata.csv\")\n",
    "jan22 <- read_csv(\"../input/202103-202203-cyclistic-dataset/202201-divvy-tripdata.csv\")\n",
    "feb_22 <- read_csv(\"../input/202103-202203-cyclistic-dataset/202202-divvy-tripdata.csv\")\n",
    "mar22 <- read_csv(\"../input/202103-202203-cyclistic-dataset/202203-divvy-tripdata.csv\")"
   ]
  },
  {
   "cell_type": "markdown",
   "metadata": {},
   "source": [
    "### Wrangle and Merge Data into a single file"
   ]
  },
  {
   "cell_type": "markdown",
   "metadata": {},
   "source": [
    "Inspect the dataframes and look for incongruencies.\n"
   ]
  },
  {
   "cell_type": "code",
   "execution_count": null,
   "metadata": {},
   "outputs": [],
   "source": [
    "str(apr21)\n",
    "str(may21)\n",
    "str(jun21)\n",
    "str(jul21)\n",
    "str(aug21)\n",
    "str(sep21)\n",
    "str(oct21)\n",
    "str(nov21)\n",
    "str(dec21)\n",
    "str(jan22)\n",
    "str(feb22)\n",
    "str(mar22)"
   ]
  },
  {
   "cell_type": "markdown",
   "metadata": {},
   "source": [
    "There are no incongruencies as all columns have matching names the right data types. So I then used merged all 12 CSV files into a single dataset, `trip_data`."
   ]
  },
  {
   "cell_type": "code",
   "execution_count": 8,
   "metadata": {
    "execution": {
     "iopub.execute_input": "2022-04-23T16:56:13.913515Z",
     "iopub.status.busy": "2022-04-23T16:56:13.912177Z",
     "iopub.status.idle": "2022-04-23T16:56:13.926040Z"
    }
   },
   "outputs": [],
   "source": [
    "trip_data <- list.files(path = \"/Users/iClin/Downloads/data\",  \n",
    "                        pattern = \"*.csv\", full.names = TRUE) %>%          # Identify all CSV files\n",
    "  lapply(read_csv) %>%                               # Store all files in list\n",
    "  bind_rows                                          # Combine data sets into one data set                                                                   "
   ]
  },
  {
   "cell_type": "code",
   "execution_count": 9,
   "metadata": {
    "execution": {
     "iopub.execute_input": "2022-04-23T16:56:14.201418Z",
     "iopub.status.busy": "2022-04-23T16:56:14.199941Z",
     "iopub.status.idle": "2022-04-23T16:56:14.215662Z"
    }
   },
   "outputs": [],
   "source": [
    "as.data.frame(trip_data)     # Convert tibble to data.frame"
   ]
  },
  {
   "cell_type": "markdown",
   "metadata": {},
   "source": [
    "### Data Cleaning and Manipulation"
   ]
  },
  {
   "cell_type": "markdown",
   "metadata": {},
   "source": [
    "Inspect the new merged dataset."
   ]
  },
  {
   "cell_type": "code",
   "execution_count": 10,
   "metadata": {
    "execution": {
     "iopub.execute_input": "2022-04-23T16:56:14.424384Z",
     "iopub.status.busy": "2022-04-23T16:56:14.422997Z",
     "iopub.status.idle": "2022-04-23T16:56:14.437346Z"
    }
   },
   "outputs": [],
   "source": [
    "colnames(trip_data)  # List of column names"
   ]
  },
  {
   "cell_type": "code",
   "execution_count": 11,
   "metadata": {
    "execution": {
     "iopub.execute_input": "2022-04-23T16:56:14.599457Z",
     "iopub.status.busy": "2022-04-23T16:56:14.598085Z",
     "iopub.status.idle": "2022-04-23T16:56:14.613049Z"
    }
   },
   "outputs": [],
   "source": [
    "nrow(trip_data)  # How many rows are in the data frame?"
   ]
  },
  {
   "cell_type": "code",
   "execution_count": 12,
   "metadata": {
    "execution": {
     "iopub.execute_input": "2022-04-23T16:56:14.714074Z",
     "iopub.status.busy": "2022-04-23T16:56:14.699064Z",
     "iopub.status.idle": "2022-04-23T16:56:14.727509Z"
    }
   },
   "outputs": [],
   "source": [
    "dim(trip_data)  # Dimensions of the data frame?\n"
   ]
  },
  {
   "cell_type": "code",
   "execution_count": 13,
   "metadata": {
    "execution": {
     "iopub.execute_input": "2022-04-23T16:56:14.815093Z",
     "iopub.status.busy": "2022-04-23T16:56:14.813637Z",
     "iopub.status.idle": "2022-04-23T16:56:14.828377Z"
    }
   },
   "outputs": [],
   "source": [
    "head(trip_data)  # See the first 6 rows of data frame.  \n"
   ]
  },
  {
   "cell_type": "code",
   "execution_count": 14,
   "metadata": {
    "execution": {
     "iopub.execute_input": "2022-04-23T16:56:14.916668Z",
     "iopub.status.busy": "2022-04-23T16:56:14.915452Z",
     "iopub.status.idle": "2022-04-23T16:56:14.928930Z"
    }
   },
   "outputs": [],
   "source": [
    "tail(trip_data)   # See the last 6 rows of data frame.  "
   ]
  },
  {
   "cell_type": "code",
   "execution_count": 15,
   "metadata": {
    "execution": {
     "iopub.execute_input": "2022-04-23T16:56:15.023676Z",
     "iopub.status.busy": "2022-04-23T16:56:15.021918Z",
     "iopub.status.idle": "2022-04-23T16:56:15.040737Z"
    }
   },
   "outputs": [],
   "source": [
    "str(trip_data)  # See list of columns and data types (numeric, character, double, etc)\n"
   ]
  },
  {
   "cell_type": "code",
   "execution_count": 16,
   "metadata": {
    "execution": {
     "iopub.execute_input": "2022-04-23T16:56:15.129592Z",
     "iopub.status.busy": "2022-04-23T16:56:15.128226Z",
     "iopub.status.idle": "2022-04-23T16:56:15.142438Z"
    }
   },
   "outputs": [],
   "source": [
    "summary(trip_data)  # Statistical summary of data. Mainly for numerics."
   ]
  },
  {
   "cell_type": "markdown",
   "metadata": {},
   "source": [
    "Check for unique user types in the `member_casual` column."
   ]
  },
  {
   "cell_type": "code",
   "execution_count": 17,
   "metadata": {
    "execution": {
     "iopub.execute_input": "2022-04-23T16:56:15.234071Z",
     "iopub.status.busy": "2022-04-23T16:56:15.232823Z",
     "iopub.status.idle": "2022-04-23T16:56:15.251274Z"
    }
   },
   "outputs": [],
   "source": [
    "unique(trip_data$member_casual)"
   ]
  },
  {
   "cell_type": "markdown",
   "metadata": {},
   "source": [
    "I added columns that list the `date`, `month`, `day`, and `year` of each ride.\n",
    "This allowed me to aggregate ride data for each month, day, or year and day of the week. Before completing these operations we could only aggregate at the ride level."
   ]
  },
  {
   "cell_type": "code",
   "execution_count": 18,
   "metadata": {
    "execution": {
     "iopub.execute_input": "2022-04-23T16:56:15.346128Z",
     "iopub.status.busy": "2022-04-23T16:56:15.344352Z",
     "iopub.status.idle": "2022-04-23T16:56:15.424480Z"
    }
   },
   "outputs": [],
   "source": [
    "trip_data$date <- as.Date(trip_data$started_at)         #The default format is yyyy-mm-dd\n",
    "trip_data$month <- format(as.Date(trip_data$date), \"%m\")\n",
    "trip_data$day <- format(as.Date(trip_data$date), \"%d\")\n",
    "trip_data$year <- format(as.Date(trip_data$date), \"%Y\")\n",
    "trip_data$day_of_week <- format(as.Date(trip_data$date), \"%A\")"
   ]
  },
  {
   "cell_type": "code",
   "execution_count": 19,
   "metadata": {
    "execution": {
     "iopub.execute_input": "2022-04-23T16:56:15.464665Z",
     "iopub.status.busy": "2022-04-23T16:56:15.462536Z",
     "iopub.status.idle": "2022-04-23T16:56:15.476729Z"
    }
   },
   "outputs": [],
   "source": [
    "colnames(trip_data)  # List of column names"
   ]
  },
  {
   "cell_type": "markdown",
   "metadata": {},
   "source": [
    "The duration of each ride(in seconds) was then calculated and placed in a new column, `ride_legth`.\n"
   ]
  },
  {
   "cell_type": "code",
   "execution_count": 20,
   "metadata": {
    "execution": {
     "iopub.execute_input": "2022-04-23T16:56:15.677808Z",
     "iopub.status.busy": "2022-04-23T16:56:15.675980Z",
     "iopub.status.idle": "2022-04-23T16:56:15.721342Z"
    }
   },
   "outputs": [],
   "source": [
    "trip_data <- mutate(trip_data, ride_length = difftime(ended_at, started_at))"
   ]
  },
  {
   "cell_type": "markdown",
   "metadata": {},
   "source": [
    "Inspect the structure of the columns.\n"
   ]
  },
  {
   "cell_type": "code",
   "execution_count": 21,
   "metadata": {
    "execution": {
     "iopub.execute_input": "2022-04-23T16:56:15.963566Z",
     "iopub.status.busy": "2022-04-23T16:56:15.961581Z",
     "iopub.status.idle": "2022-04-23T16:56:15.985159Z"
    }
   },
   "outputs": [],
   "source": [
    "str(trip_data)"
   ]
  },
  {
   "cell_type": "markdown",
   "metadata": {},
   "source": [
    "Convert `ride_length` from Factor to numeric in order to be able to run calculations on the data.\n"
   ]
  },
  {
   "cell_type": "code",
   "execution_count": 22,
   "metadata": {
    "execution": {
     "iopub.execute_input": "2022-04-23T16:56:16.136548Z",
     "iopub.status.busy": "2022-04-23T16:56:16.134780Z",
     "iopub.status.idle": "2022-04-23T16:56:16.158806Z"
    }
   },
   "outputs": [],
   "source": [
    "trip_data$ride_length <- as.numeric(as.character(trip_data$ride_length))\n",
    "is.numeric(trip_data$ride_length)"
   ]
  },
  {
   "cell_type": "markdown",
   "metadata": {},
   "source": [
    "The dataframe includes a few hundred entries when bikes were taken out of docks and checked for quality (`start_station_name` \"*HQ QR*\") by Cyclistic or `ride_length` was negative. So I removed this bad data by creating a new version of the dataset."
   ]
  },
  {
   "cell_type": "code",
   "execution_count": 23,
   "metadata": {
    "execution": {
     "iopub.execute_input": "2022-04-23T16:56:16.237118Z",
     "iopub.status.busy": "2022-04-23T16:56:16.235354Z",
     "iopub.status.idle": "2022-04-23T16:56:16.253820Z"
    }
   },
   "outputs": [],
   "source": [
    "trip_data_v2 <- trip_data[!(trip_data$start_station_name == \"HQ QR\" | trip_data$ride_length<0),]"
   ]
  },
  {
   "cell_type": "code",
   "execution_count": 24,
   "metadata": {
    "execution": {
     "iopub.execute_input": "2022-04-23T16:56:16.632737Z",
     "iopub.status.busy": "2022-04-23T16:56:16.631448Z",
     "iopub.status.idle": "2022-04-23T16:56:16.661968Z"
    }
   },
   "outputs": [],
   "source": [
    "unique(trip_data_v2$member_casual)"
   ]
  },
  {
   "cell_type": "markdown",
   "metadata": {},
   "source": [
    "Ensure there are no null values in `member_casual`."
   ]
  },
  {
   "cell_type": "code",
   "execution_count": 25,
   "metadata": {
    "execution": {
     "iopub.execute_input": "2022-04-23T16:56:16.816965Z",
     "iopub.status.busy": "2022-04-23T16:56:16.815681Z",
     "iopub.status.idle": "2022-04-23T16:56:16.830938Z"
    }
   },
   "outputs": [],
   "source": [
    "trip_data_v2 <- trip_data_v2[!(is.na(trip_data_v2$member_casual)), ]"
   ]
  },
  {
   "cell_type": "markdown",
   "metadata": {},
   "source": [
    "##### Dataset Limitation\n",
    "The main limitation of the dataset is that, it has a lot of missing values. Such a huge amount of missing data can affect the analysis, leading to inaccurate conclusions"
   ]
  },
  {
   "cell_type": "markdown",
   "metadata": {},
   "source": [
    "Check for null values in all columns."
   ]
  },
  {
   "cell_type": "code",
   "execution_count": 26,
   "metadata": {
    "execution": {
     "iopub.execute_input": "2022-04-23T16:56:16.914843Z",
     "iopub.status.busy": "2022-04-23T16:56:16.913519Z",
     "iopub.status.idle": "2022-04-23T16:56:16.936283Z"
    }
   },
   "outputs": [],
   "source": [
    "na_count <- data.frame(map_dbl(trip_data_v2, ~sum(is.na(.))))    # Missing values per column\n",
    "na_count"
   ]
  },
  {
   "cell_type": "markdown",
   "metadata": {},
   "source": [
    "Seeing as there are many missing values for the `end_station_name` and `end_station_id`, I decided to drop the missing values since this will not affect the business task."
   ]
  },
  {
   "cell_type": "code",
   "execution_count": 27,
   "metadata": {
    "execution": {
     "iopub.execute_input": "2022-04-23T16:56:17.032262Z",
     "iopub.status.busy": "2022-04-23T16:56:17.030895Z",
     "iopub.status.idle": "2022-04-23T16:56:17.061856Z"
    }
   },
   "outputs": [],
   "source": [
    "trip_data_v3 <- trip_data_v2[!(is.na(trip_data_v2$end_station_name) | trip_data_v2$end_station_name==\"\" | \n",
    "                              is.na(trip_data_v2$start_station_name) | trip_data_v2$start_station_name==\"\"|\n",
    "                              is.na(trip_data_v2$ride_id) | trip_data_v2$ride_id==\"\"),] "
   ]
  },
  {
   "cell_type": "code",
   "execution_count": 28,
   "metadata": {
    "execution": {
     "iopub.execute_input": "2022-04-23T16:56:17.216644Z",
     "iopub.status.busy": "2022-04-23T16:56:17.215153Z",
     "iopub.status.idle": "2022-04-23T16:56:17.236199Z"
    }
   },
   "outputs": [],
   "source": [
    "unique(trip_data_v3$member_casual)\n",
    "dim(trip_data_v3)"
   ]
  },
  {
   "cell_type": "markdown",
   "metadata": {},
   "source": [
    "Check for duplicate rides."
   ]
  },
  {
   "cell_type": "code",
   "execution_count": 29,
   "metadata": {
    "execution": {
     "iopub.execute_input": "2022-04-23T16:56:17.385208Z",
     "iopub.status.busy": "2022-04-23T16:56:17.383882Z",
     "iopub.status.idle": "2022-04-23T16:56:17.407696Z"
    }
   },
   "outputs": [],
   "source": [
    "trip_data_v3[duplicated (trip_data_v3$ride_id),]"
   ]
  },
  {
   "cell_type": "markdown",
   "metadata": {},
   "source": [
    "I found out that there are duplicate `ride_id`s. So I removed the duplicates rides."
   ]
  },
  {
   "cell_type": "code",
   "execution_count": 30,
   "metadata": {
    "execution": {
     "iopub.execute_input": "2022-04-23T16:56:17.503228Z",
     "iopub.status.busy": "2022-04-23T16:56:17.501905Z",
     "iopub.status.idle": "2022-04-23T16:56:17.529117Z"
    }
   },
   "outputs": [],
   "source": [
    "trip_data_v4 <- trip_data_v3[!duplicated(trip_data_v3$ride_id),]"
   ]
  },
  {
   "cell_type": "code",
   "execution_count": 31,
   "metadata": {
    "execution": {
     "iopub.execute_input": "2022-04-23T16:56:17.577890Z",
     "iopub.status.busy": "2022-04-23T16:56:17.576374Z",
     "iopub.status.idle": "2022-04-23T16:56:17.595973Z"
    }
   },
   "outputs": [],
   "source": [
    "as.data.frame(trip_data_v4)     # Convert tibble to data.frame"
   ]
  },
  {
   "cell_type": "markdown",
   "metadata": {},
   "source": [
    "### Descriptive Analysis"
   ]
  },
  {
   "cell_type": "markdown",
   "metadata": {},
   "source": [
    "Descriptive analysis on `ride_length` (all figures in seconds).\n",
    "\n",
    "On average, a casual ride lasted for **1922.9215** seconds(**32.0487** minutes)while an annual member ride lasted **776.4847** seconds (**12.9414** minutes)."
   ]
  },
  {
   "cell_type": "code",
   "execution_count": 32,
   "metadata": {
    "execution": {
     "iopub.execute_input": "2022-04-23T16:56:17.721796Z",
     "iopub.status.busy": "2022-04-23T16:56:17.720447Z",
     "iopub.status.idle": "2022-04-23T16:56:17.760202Z"
    }
   },
   "outputs": [],
   "source": [
    "mean(trip_data_v4$ride_length) # straight average (total ride length / rides)\n",
    "median(trip_data_v4$ride_length) # midpoint number in the ascending array of ride lengths\n",
    "max(trip_data_v4$ride_length) # longest ride\n",
    "min(trip_data_v4$ride_length) # shortest ride\n",
    "\n",
    "mode<-function(x){which.max(tabulate(x))}\n",
    "mode(trip_data_v4$ride_length)"
   ]
  },
  {
   "cell_type": "code",
   "execution_count": 33,
   "metadata": {
    "execution": {
     "iopub.execute_input": "2022-04-23T16:56:17.864062Z",
     "iopub.status.busy": "2022-04-23T16:56:17.862603Z",
     "iopub.status.idle": "2022-04-23T16:56:17.880405Z"
    }
   },
   "outputs": [],
   "source": [
    "summary(trip_data_v4$ride_length)"
   ]
  },
  {
   "cell_type": "markdown",
   "metadata": {},
   "source": [
    "#### Compare members and casual users."
   ]
  },
  {
   "cell_type": "code",
   "execution_count": 34,
   "metadata": {
    "execution": {
     "iopub.execute_input": "2022-04-23T16:56:18.020475Z",
     "iopub.status.busy": "2022-04-23T16:56:18.019148Z",
     "iopub.status.idle": "2022-04-23T16:56:18.042250Z"
    }
   },
   "outputs": [],
   "source": [
    "aggregate(data = trip_data_v4, ride_length ~ member_casual, FUN = mean)\n",
    "aggregate(data = trip_data_v4, ride_length ~ member_casual, FUN = median)\n",
    "aggregate(data = trip_data_v4, ride_length ~ member_casual, FUN = max)\n",
    "aggregate(data = trip_data_v4, ride_length ~ member_casual, FUN = min)"
   ]
  },
  {
   "cell_type": "markdown",
   "metadata": {},
   "source": [
    "Calculate the **average ride duration** by each day for members vs casual users.[[](http://)](http://)\n"
   ]
  },
  {
   "cell_type": "code",
   "execution_count": 35,
   "metadata": {
    "execution": {
     "iopub.execute_input": "2022-04-23T16:56:18.211546Z",
     "iopub.status.busy": "2022-04-23T16:56:18.209651Z",
     "iopub.status.idle": "2022-04-23T16:56:18.232658Z"
    }
   },
   "outputs": [],
   "source": [
    "aggregate(data = trip_data_v4, ride_length ~ member_casual + day_of_week, FUN = mean)"
   ]
  },
  {
   "cell_type": "markdown",
   "metadata": {},
   "source": [
    "In the above output, I noticed that the days of the week are out of order. So, I fixed that as follows."
   ]
  },
  {
   "cell_type": "code",
   "execution_count": 36,
   "metadata": {
    "execution": {
     "iopub.execute_input": "2022-04-23T16:56:18.352940Z",
     "iopub.status.busy": "2022-04-23T16:56:18.351154Z",
     "iopub.status.idle": "2022-04-23T16:56:18.365132Z"
    }
   },
   "outputs": [],
   "source": [
    "trip_data_v4$day_of_week <- ordered(trip_data_v4$day_of_week, \n",
    "                                     levels=c(\"Sunday\",\"Monday\",\"Tuesday\",\"Wednesday\",\"Thursday\",\"Friday\",\"Saturday\"))"
   ]
  },
  {
   "cell_type": "markdown",
   "metadata": {},
   "source": [
    "Now re-run the aggregation."
   ]
  },
  {
   "cell_type": "code",
   "execution_count": 37,
   "metadata": {
    "execution": {
     "iopub.execute_input": "2022-04-23T16:56:18.499303Z",
     "iopub.status.busy": "2022-04-23T16:56:18.497456Z",
     "iopub.status.idle": "2022-04-23T16:56:18.531064Z"
    }
   },
   "outputs": [],
   "source": [
    "aggregate(data = trip_data_v4, ride_length ~ member_casual + day_of_week, FUN = mean)"
   ]
  },
  {
   "cell_type": "markdown",
   "metadata": {},
   "source": [
    "#### Analyzing ridership data by type and weekday."
   ]
  },
  {
   "cell_type": "code",
   "execution_count": 38,
   "metadata": {
    "execution": {
     "iopub.execute_input": "2022-04-23T16:56:18.738270Z",
     "iopub.status.busy": "2022-04-23T16:56:18.735719Z",
     "iopub.status.idle": "2022-04-23T16:56:18.761983Z"
    }
   },
   "outputs": [],
   "source": [
    "trip_data_v4 %>% \n",
    "  mutate(weekday = wday(started_at, label = TRUE)) %>%  # creates weekday field using wday()\n",
    "  group_by(member_casual, weekday) %>%                  # groups by usertype and weekday\n",
    "  dplyr::summarise(number_of_rides = n(),                      # calculates the number of rides and average duration             \n",
    "    average_duration = mean(ride_length)) %>%           # calculates the average duration\n",
    "  arrange(member_casual, weekday)"
   ]
  },
  {
   "cell_type": "markdown",
   "metadata": {},
   "source": [
    "#### Number of rides by user type.\n",
    "\n",
    "The annual members took **552,691** more rides than the casual users."
   ]
  },
  {
   "cell_type": "code",
   "execution_count": 39,
   "metadata": {
    "execution": {
     "iopub.execute_input": "2022-04-23T16:56:18.908955Z",
     "iopub.status.busy": "2022-04-23T16:56:18.907601Z",
     "iopub.status.idle": "2022-04-23T16:56:19.084752Z"
    }
   },
   "outputs": [],
   "source": [
    "trip_data_v4 %>% \n",
    "    group_by(member_casual) %>% \n",
    "    dplyr::summarise(number_of_rides = n()) %>% \n",
    "    arrange(member_casual)  %>% \n",
    "    ggplot(aes(x = member_casual, y = number_of_rides, fill = member_casual)) +\n",
    "    geom_col(position = \"dodge\") +\n",
    "    geom_text(aes(label=round(stat(y),2)), vjust=+2, color=\"white\")+\n",
    "    labs(title=\"Number of rides by user type\", \n",
    "       subtitle=\"From April 2021 to March 2022\",\n",
    "       x=\"User type\", y=\"Number of rides\")"
   ]
  },
  {
   "cell_type": "markdown",
   "metadata": {},
   "source": [
    "#### Visualizing the number of rides by rider type.\n",
    "\n",
    "* On week days, members take more rides that casual users.\n",
    "* On weekends, casual users take more rides that members."
   ]
  },
  {
   "cell_type": "code",
   "execution_count": null,
   "metadata": {},
   "outputs": [],
   "source": [
    "trip_data_v4 %>% \n",
    "  mutate(weekday = wday(started_at, label = TRUE)) %>% \n",
    "  group_by(member_casual, weekday) %>% \n",
    "  dplyr::summarise(number_of_rides = n()\n",
    "            ,average_duration = mean(ride_length)) %>% \n",
    "  arrange(member_casual, weekday)  %>% \n",
    "  ggplot(aes(x = weekday, y = number_of_rides, fill = member_casual)) +\n",
    "  geom_col(position = \"dodge\") +\n",
    "  labs(title=\"Number of rides by rider type\", \n",
    "       subtitle=\"From April 2021 to March 2022\",\n",
    "       x=\"Weekday\", y=\"Number of rides\")"
   ]
  },
  {
   "cell_type": "markdown",
   "metadata": {},
   "source": [
    "#### Average ride duration by user type.\n",
    "\n",
    "On average, the rides of casual users lasted for **1146.44** seconds (32.12 minutes) more than those of members.\n"
   ]
  },
  {
   "cell_type": "code",
   "execution_count": 40,
   "metadata": {
    "execution": {
     "iopub.execute_input": "2022-04-23T16:56:19.184585Z",
     "iopub.status.busy": "2022-04-23T16:56:19.182677Z",
     "iopub.status.idle": "2022-04-23T16:56:19.305929Z"
    }
   },
   "outputs": [],
   "source": [
    "trip_data_v4 %>% \n",
    "     group_by(member_casual) %>% \n",
    "     dplyr::summarise(average_duration = mean(ride_length)) %>% \n",
    "     arrange(member_casual)  %>% \n",
    "     ggplot(aes(x = member_casual, y = average_duration, fill = member_casual)) +\n",
    "     geom_col(position = \"dodge\") +\n",
    "     geom_text(aes(label=round(stat(y),2)/60), vjust=+2, color=\"white\")+\n",
    "     labs(title=\"Average ride duration by user type\", \n",
    "          subtitle=\"From April 2021 to March 2022\",\n",
    "          x=\"User type\", y=\"Average ride duration\")"
   ]
  },
  {
   "cell_type": "markdown",
   "metadata": {},
   "source": [
    "#### Visualizing the average ride duration by rider type.\n",
    "\n",
    "This reveals the fact that, although members take more rides on weekdays than casual users, on average casual users rides Cyclistic bikes for longer durations every day of the week.\n"
   ]
  },
  {
   "cell_type": "code",
   "execution_count": null,
   "metadata": {},
   "outputs": [],
   "source": [
    "trip_data_v4 %>% \n",
    "  mutate(weekday = wday(started_at, label = TRUE)) %>% \n",
    "  group_by(member_casual, weekday) %>% \n",
    "  dplyr::summarise(number_of_rides = n()\n",
    "            ,average_duration = mean(ride_length)) %>% \n",
    "  arrange(member_casual, weekday)  %>% \n",
    "  ggplot(aes(x = weekday, y = average_duration, fill = member_casual)) +\n",
    "  geom_col(position = \"dodge\") +\n",
    "  labs(title=\"Average ride duration by rider type\", \n",
    "       subtitle=\"From April 2021 to March 2022\",\n",
    "       x=\"Weekday\", y=\"Average ride duration\")+\n",
    "  facet_wrap(~member_casual)"
   ]
  },
  {
   "cell_type": "markdown",
   "metadata": {},
   "source": [
    "#### Number of rides by bike type.\n",
    "\n",
    "* Both members and casual users ride classic bikes the most.\n",
    "* Casual users ride more docked bikes than members.\n",
    "* Both members and casual users ride more electric and classic bikes than docked bikes.\n",
    "* Both members and casual users ride docked bikes least."
   ]
  },
  {
   "cell_type": "code",
   "execution_count": 41,
   "metadata": {
    "execution": {
     "iopub.execute_input": "2022-04-23T16:56:19.420500Z",
     "iopub.status.busy": "2022-04-23T16:56:19.418650Z",
     "iopub.status.idle": "2022-04-23T16:56:19.541855Z"
    }
   },
   "outputs": [],
   "source": [
    "trip_data_v4 %>% \n",
    "  group_by(member_casual, rideable_type) %>% \n",
    "  dplyr::summarise(number_of_rides = n()) %>%\n",
    "  ggplot(aes(x = rideable_type, y = number_of_rides, fill = member_casual)) +\n",
    "  geom_col(position = \"stack\")+\n",
    "  labs(title=\"Number of rides by bike type\", \n",
    "       subtitle=\"From April 2021 to March 2022\",\n",
    "       x=\"Bike type\", y=\"Number of rides\") + theme_bw(base_size = 15)"
   ]
  },
  {
   "cell_type": "markdown",
   "metadata": {},
   "source": [
    "## Key findings\n",
    "* On average, a casual ride lasted for **1922.9215** seconds(**32.0487** minutes)while an annual member ride lasted **776.4847** seconds (**12.9414** minutes).\n",
    "* The annual members took **552,691** more rides than the casual users.\n",
    "* On week days, members take more rides that casual users.\n",
    "* On weekends, casual users take more rides that members.\n",
    "* On average, the rides of casual users lasted for **1146.44** seconds (19.12 minutes) more than those of members.\n",
    "* Although members take more rides on weekdays than casual users, on average casual users rides Cyclistic bikes for longer durations every day of the week.\n",
    "* Both members and casual users ride classic bikes the most.\n",
    "* Casual users ride more docked bikes than members.\n",
    "* Both members and casual users ride more electric and classic bikes than docked bikes.\n",
    "* Both members and casual users ride docked bikes least."
   ]
  },
  {
   "cell_type": "markdown",
   "metadata": {},
   "source": [
    "# Recommendations\n",
    "\n",
    "For a marketing strategy to convert more casual users into annual members, here are some recommendations to present to the Cyclistic executives for approval.\n",
    "* Create an annual member promotion for **weekends**. Since casual member ride for much longer durations during the weekend, such a promotion will encourage them to subscribe.\n",
    "* Create annual subription discount promotions for rides longer than **30 minutes**. Since casual user rides averagely last about 32 minutes, this offer will be enticing.\n",
    "* Create an annual campaign offer for docked bike users. Since a lot more casual users ride docked bikes, they will be more likely to subscribe for annual membership.\n"
   ]
  },
  {
   "cell_type": "markdown",
   "metadata": {},
   "source": [
    "### Export summary file for futher analysis"
   ]
  },
  {
   "cell_type": "code",
   "execution_count": null,
   "metadata": {},
   "outputs": [],
   "source": [
    "counts <- aggregate(data = trip_data_v4, ride_length ~ member_casual + day_of_week, FUN = mean)\n",
    "write.csv(counts, file = 'avg_ride_length.csv')"
   ]
  },
  {
   "cell_type": "markdown",
   "metadata": {},
   "source": [
    "##### Dataset Limitation\n",
    "The main limitation of the dataset is that, it has a lot of missing values. Such a huge amount of missing data can affect the analysis, leading to inaccurate conclusions"
   ]
  }
 ],
 "metadata": {
  "kernelspec": {
   "display_name": "Python 3 (ipykernel)",
   "language": "python",
   "name": "python3"
  },
  "language_info": {
   "codemirror_mode": {
    "name": "ipython",
    "version": 3
   },
   "file_extension": ".py",
   "mimetype": "text/x-python",
   "name": "python",
   "nbconvert_exporter": "python",
   "pygments_lexer": "ipython3",
   "version": "3.11.5"
  }
 },
 "nbformat": 4,
 "nbformat_minor": 4
}
